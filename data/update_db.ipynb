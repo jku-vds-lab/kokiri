{
 "cells": [
  {
   "cell_type": "markdown",
   "id": "41d4c511-345b-47b1-84a3-51c7abbdef6a",
   "metadata": {},
   "source": [
    "# Old Version"
   ]
  },
  {
   "cell_type": "code",
   "execution_count": null,
   "id": "c971818e-7a9e-4af1-a9c5-37fba2af0438",
   "metadata": {},
   "outputs": [],
   "source": [
    "!pip install duckdb==0.3.4"
   ]
  },
  {
   "cell_type": "code",
   "execution_count": null,
   "id": "609ba1a7-30e7-4a9c-b4c3-f5d6ad0f5862",
   "metadata": {},
   "outputs": [],
   "source": [
    "import duckdb\n",
    "duckdb.__version__"
   ]
  },
  {
   "cell_type": "code",
   "execution_count": null,
   "id": "353f2532-8818-40cd-8869-2957224c9c9f",
   "metadata": {},
   "outputs": [],
   "source": [
    "db_name = './genie.duckdb'\n",
    "con = duckdb.connect(database=db_name, read_only=True)"
   ]
  },
  {
   "cell_type": "code",
   "execution_count": null,
   "id": "73868831-d1c0-497b-9903-69bde7d511a1",
   "metadata": {},
   "outputs": [],
   "source": [
    "con.execute(\"EXPORT DATABASE 'db_duck_v.0.3.4'\")"
   ]
  },
  {
   "cell_type": "code",
   "execution_count": null,
   "id": "581c8309-0faa-4a0c-b05f-57e87e5250dd",
   "metadata": {},
   "outputs": [],
   "source": [
    "con.close()"
   ]
  },
  {
   "cell_type": "markdown",
   "id": "1e838ebc-1d4a-4f62-ba51-81deea51308a",
   "metadata": {},
   "source": [
    "# New Version"
   ]
  },
  {
   "cell_type": "code",
   "execution_count": null,
   "id": "dd66b1c7-bcf1-4ac7-9309-1035d650a8cf",
   "metadata": {},
   "outputs": [],
   "source": [
    "!pip install --upgrade duckdb"
   ]
  },
  {
   "cell_type": "code",
   "execution_count": null,
   "id": "04b58613-ecff-482a-bd73-03972a9f68a3",
   "metadata": {},
   "outputs": [],
   "source": [
    "import duckdb\n",
    "duckdb.__version__"
   ]
  },
  {
   "cell_type": "code",
   "execution_count": null,
   "id": "ef41c202-2e12-4990-a007-dd5e1a853d93",
   "metadata": {},
   "outputs": [],
   "source": [
    "db_name = './genie61.duckdb'\n",
    "con = duckdb.connect(database=db_name, read_only=False)"
   ]
  },
  {
   "cell_type": "code",
   "execution_count": null,
   "id": "e81180a8-911a-4bf6-b940-fd372c771aa6",
   "metadata": {},
   "outputs": [],
   "source": [
    "con.execute(\"IMPORT DATABASE 'db_duck_v.0.3.4'\")"
   ]
  },
  {
   "cell_type": "code",
   "execution_count": null,
   "id": "0769db27-79db-4414-a9b1-8bc1d6afe9e4",
   "metadata": {},
   "outputs": [],
   "source": [
    "con.close()"
   ]
  }
 ],
 "metadata": {
  "kernelspec": {
   "display_name": "Python 3 (ipykernel)",
   "language": "python",
   "name": "python3"
  },
  "language_info": {
   "codemirror_mode": {
    "name": "ipython",
    "version": 3
   },
   "file_extension": ".py",
   "mimetype": "text/x-python",
   "name": "python",
   "nbconvert_exporter": "python",
   "pygments_lexer": "ipython3",
   "version": "3.10.8"
  }
 },
 "nbformat": 4,
 "nbformat_minor": 5
}
