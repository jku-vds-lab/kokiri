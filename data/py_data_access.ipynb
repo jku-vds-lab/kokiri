{
 "cells": [
  {
   "cell_type": "code",
   "execution_count": 1,
   "metadata": {},
   "outputs": [
    {
     "data": {
      "text/plain": [
       "'0.6.1'"
      ]
     },
     "execution_count": 1,
     "metadata": {},
     "output_type": "execute_result"
    }
   ],
   "source": [
    "import duckdb\n",
    "duckdb.__version__"
   ]
  },
  {
   "cell_type": "code",
   "execution_count": 2,
   "metadata": {},
   "outputs": [],
   "source": [
    "db_name = './genie.duckdb'\n",
    "con = duckdb.connect(database=db_name, read_only=True)"
   ]
  },
  {
   "cell_type": "code",
   "execution_count": 16,
   "metadata": {},
   "outputs": [
    {
     "name": "stdout",
     "output_type": "stream",
     "text": [
      "                                           column_name\n",
      "24      tumortype_adenoid cystic carcinoma of the lung\n",
      "79                   tumortype_atypical lung carcinoid\n",
      "96   tumortype_basaloid large cell carcinoma of the...\n",
      "163  tumortype_ciliated muconodular papillary tumor...\n",
      "167         tumortype_clear cell carcinoma of the lung\n",
      "181       tumortype_combined small cell lung carcinoma\n",
      "274         tumortype_giant cell carcinoma of the lung\n",
      "326  tumortype_inflammatory myofibroblastic lung tumor\n",
      "340                tumortype_large cell lung carcinoma\n",
      "357                                     tumortype_lung\n",
      "358                      tumortype_lung adenocarcinoma\n",
      "359              tumortype_lung adenocarcinoma in situ\n",
      "360             tumortype_lung adenosquamous carcinoma\n",
      "361                           tumortype_lung carcinoid\n",
      "362                tumortype_lung neuroendocrine tumor\n",
      "363             tumortype_lung squamous cell carcinoma\n",
      "364  tumortype_lymphoepithelioma-like carcinoma of ...\n",
      "435     tumortype_mucoepidermoid carcinoma of the lung\n",
      "473               tumortype_non-small cell lung cancer\n",
      "474                tumortype_nut carcinoma of the lung\n",
      "537        tumortype_pleomorphic carcinoma of the lung\n",
      "551  tumortype_poorly differentiated non-small cell...\n",
      "606    tumortype_salivary gland-type tumor of the lung\n",
      "608        tumortype_sarcomatoid carcinoma of the lung\n",
      "641                   tumortype_small cell lung cancer\n",
      "652       tumortype_spindle cell carcinoma of the lung\n"
     ]
    }
   ],
   "source": [
    "query = \"\"\"\n",
    "SELECT COLUMN_NAME\n",
    "    FROM INFORMATION_SCHEMA.COLUMNS\n",
    "    WHERE table_name = 'meta_table'\n",
    "\"\"\"\n",
    "df = con.execute(query).df()\n",
    "#print all columns that contain lung\n",
    "print(df[df['column_name'].str.contains('lung')])"
   ]
  },
  {
   "cell_type": "code",
   "execution_count": 22,
   "metadata": {},
   "outputs": [
    {
     "data": {
      "text/html": [
       "<div>\n",
       "<style scoped>\n",
       "    .dataframe tbody tr th:only-of-type {\n",
       "        vertical-align: middle;\n",
       "    }\n",
       "\n",
       "    .dataframe tbody tr th {\n",
       "        vertical-align: top;\n",
       "    }\n",
       "\n",
       "    .dataframe thead th {\n",
       "        text-align: right;\n",
       "    }\n",
       "</style>\n",
       "<table border=\"1\" class=\"dataframe\">\n",
       "  <thead>\n",
       "    <tr style=\"text-align: right;\">\n",
       "      <th></th>\n",
       "      <th>tissuename</th>\n",
       "    </tr>\n",
       "  </thead>\n",
       "  <tbody>\n",
       "    <tr>\n",
       "      <th>0</th>\n",
       "      <td>GENIE-YALE-TPL210-1</td>\n",
       "    </tr>\n",
       "    <tr>\n",
       "      <th>1</th>\n",
       "      <td>GENIE-YALE-TPL263-1</td>\n",
       "    </tr>\n",
       "    <tr>\n",
       "      <th>2</th>\n",
       "      <td>GENIE-DFCI-003312-8194</td>\n",
       "    </tr>\n",
       "    <tr>\n",
       "      <th>3</th>\n",
       "      <td>GENIE-DFCI-010893-9207</td>\n",
       "    </tr>\n",
       "    <tr>\n",
       "      <th>4</th>\n",
       "      <td>GENIE-MSK-P-0005962-T01-IM5</td>\n",
       "    </tr>\n",
       "    <tr>\n",
       "      <th>...</th>\n",
       "      <td>...</td>\n",
       "    </tr>\n",
       "    <tr>\n",
       "      <th>363</th>\n",
       "      <td>GENIE-JHU-01346-01705</td>\n",
       "    </tr>\n",
       "    <tr>\n",
       "      <th>364</th>\n",
       "      <td>GENIE-JHU-01784-02188</td>\n",
       "    </tr>\n",
       "    <tr>\n",
       "      <th>365</th>\n",
       "      <td>GENIE-JHU-02860-03388</td>\n",
       "    </tr>\n",
       "    <tr>\n",
       "      <th>366</th>\n",
       "      <td>GENIE-JHU-03557-04169</td>\n",
       "    </tr>\n",
       "    <tr>\n",
       "      <th>367</th>\n",
       "      <td>GENIE-JHU-04399-05129</td>\n",
       "    </tr>\n",
       "  </tbody>\n",
       "</table>\n",
       "<p>368 rows × 1 columns</p>\n",
       "</div>"
      ],
      "text/plain": [
       "                      tissuename\n",
       "0            GENIE-YALE-TPL210-1\n",
       "1            GENIE-YALE-TPL263-1\n",
       "2         GENIE-DFCI-003312-8194\n",
       "3         GENIE-DFCI-010893-9207\n",
       "4    GENIE-MSK-P-0005962-T01-IM5\n",
       "..                           ...\n",
       "363        GENIE-JHU-01346-01705\n",
       "364        GENIE-JHU-01784-02188\n",
       "365        GENIE-JHU-02860-03388\n",
       "366        GENIE-JHU-03557-04169\n",
       "367        GENIE-JHU-04399-05129\n",
       "\n",
       "[368 rows x 1 columns]"
      ]
     },
     "execution_count": 22,
     "metadata": {},
     "output_type": "execute_result"
    }
   ],
   "source": [
    "query = 'SELECT tissuename FROM meta_table WHERE gender_male=1 AND race_black=1 AND \"tumortype_lung adenocarcinoma\"=1'\n",
    "#print('#query\\n', query)\n",
    "df = con.execute(query).df()\n",
    "df"
   ]
  },
  {
   "attachments": {
    "image.png": {
     "image/png": "[encoded data removed]"
    }
   },
   "cell_type": "markdown",
   "metadata": {},
   "source": [
    "![image.png](attachment:image.png)"
   ]
  },
  {
   "cell_type": "markdown",
   "metadata": {},
   "source": []
  }
 ],
 "metadata": {
  "kernelspec": {
   "display_name": "env",
   "language": "python",
   "name": "python3"
  },
  "language_info": {
   "codemirror_mode": {
    "name": "ipython",
    "version": 3
   },
   "file_extension": ".py",
   "mimetype": "text/x-python",
   "name": "python",
   "nbconvert_exporter": "python",
   "pygments_lexer": "ipython3",
   "version": "3.9.12"
  },
  "orig_nbformat": 4
 },
 "nbformat": 4,
 "nbformat_minor": 2
}
